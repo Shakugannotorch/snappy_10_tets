{
 "cells": [
  {
   "cell_type": "code",
   "execution_count": 30,
   "metadata": {},
   "outputs": [],
   "source": [
    "import os, sys, time\n",
    "import sqlite3\n",
    "import binascii\n",
    "import re\n",
    "import csv\n",
    "\n",
    "\"\"\"\n",
    "This file contains the functions used to pull the data\n",
    "from the Manifold censuses in csv format to build sqlite\n",
    "databases for use by snappy. The first line of the csv\n",
    "names the columns.\n",
    "\"\"\"\n",
    "\n",
    "csv_dir = 'original_manifold_sources'\n",
    "\n",
    "schema_types = {\n",
    "    'id': 'int',\n",
    "    'name': 'text',\n",
    "    'cusps': 'int',\n",
    "    'betti': 'int',\n",
    "    'torsion': 'text',\n",
    "    'volume': 'real',\n",
    "    'chernsimons': 'real',\n",
    "    'tets': 'int', \n",
    "    'hash': 'text',\n",
    "    'triangulation': 'text',\n",
    "}\n",
    "\n",
    "\n",
    "def make_table(connection, tablename, csv_files, name_index=True):\n",
    "    \"\"\"\n",
    "    Given a csv of manifolds data and a connection to a sqlite database,\n",
    "    insert the data into a new table. If the csv file is in a subdirectory\n",
    "    of the csv directory csv_dir, it is given by sub_dir.\n",
    "    \"\"\"\n",
    "    # Get the column names from the first csv file\n",
    "    first_csv_file = open(os.path.join(csv_dir, csv_files[0]), 'r')\n",
    "    csv_reader = csv.reader(first_csv_file)\n",
    "    columns = next(csv_reader)\n",
    "    \n",
    "    schema = \"CREATE TABLE %s (id integer primary key\" % tablename\n",
    "    for column in columns[1:]: #first column is always id\n",
    "        schema += \",%s %s\" % (column,schema_types[column])\n",
    "    schema += \")\"\n",
    "    print('creating ' + tablename)\n",
    "    connection.execute(schema)\n",
    "    connection.commit()\n",
    "    \n",
    "    insert_query = \"insert into %s (\"%tablename\n",
    "    for column in columns:\n",
    "        insert_query += \"%s, \" %column\n",
    "    insert_query = insert_query[:-2] #one comma too many\n",
    "    insert_query += ') values ('\n",
    "    for column in columns:\n",
    "        if schema_types[column] == 'text':\n",
    "            insert_query += \"'%s', \"\n",
    "        else:\n",
    "            insert_query += \"%s, \"\n",
    "    insert_query = insert_query[:-2] #one comma too many\n",
    "    insert_query += ')'\n",
    "\n",
    "    for csv_file in csv_files:\n",
    "        csv_reader = csv.reader(open(os.path.join(csv_dir, csv_file)))\n",
    "        assert columns == next(csv_reader)\n",
    "        for row in csv_reader:\n",
    "            data_list = row\n",
    "            for i,data in enumerate(data_list): #chernsimons is None sometimes\n",
    "                if data == 'None':\n",
    "                    data_list[i] = 'Null'\n",
    "            connection.execute(insert_query%tuple(data_list))\n",
    "\n",
    "    # We need to index columns that will be queried frequently for speed.\n",
    "\n",
    "    indices = ['hash', 'volume']\n",
    "    if name_index:\n",
    "        indices += ['name']\n",
    "    #print('Indices: {}'.format(indices))\n",
    "    for column in indices:\n",
    "        connection.execute(\n",
    "            'create index %s_by_%s on %s (%s)'%\n",
    "            (tablename, column, tablename, column))\n",
    "    connection.commit()\n",
    "            \n",
    "def is_stale(dbfile, sourceinfo):\n",
    "    if not os.path.exists(dbfile):\n",
    "        return True\n",
    "    dbmodtime = os.path.getmtime(dbfile)\n",
    "    for table in sourceinfo:\n",
    "        for csv_file in sourceinfo[table]['csv_files']:\n",
    "            csv_path = os.path.join(csv_dir, csv_file)\n",
    "            if os.path.getmtime(csv_path) > dbmodtime:\n",
    "                return True\n",
    "    return False"
   ]
  },
  {
   "cell_type": "code",
   "execution_count": 2,
   "metadata": {},
   "outputs": [],
   "source": [
    "manifold_db = '10_tet.sqlite'\n",
    "manifold_data = {'hyperbolic_cusped_census': {'csv_files': ['orientable_cusped_census.csv',\n",
    "                                            'orientable_cusped_census_10.csv']}}"
   ]
  },
  {
   "cell_type": "code",
   "execution_count": 3,
   "metadata": {},
   "outputs": [
    {
     "data": {
      "text/plain": [
       "True"
      ]
     },
     "execution_count": 3,
     "metadata": {},
     "output_type": "execute_result"
    }
   ],
   "source": [
    "is_stale(manifold_db,manifold_data)"
   ]
  },
  {
   "cell_type": "code",
   "execution_count": 31,
   "metadata": {},
   "outputs": [
    {
     "name": "stdout",
     "output_type": "stream",
     "text": [
      "creating hyperbolic_cusped_census\n"
     ]
    }
   ],
   "source": [
    "if is_stale(manifold_db, manifold_data):\n",
    "    if os.path.exists(manifold_db):\n",
    "        os.remove(manifold_db)\n",
    "    with sqlite3.connect(manifold_db) as connection:\n",
    "        for tablename, args in manifold_data.items():\n",
    "            make_table(connection, tablename, **args)\n",
    "        connection.execute(\" create view hyperbolic_cusped_census_view as select * from hyperbolic_cusped_census\")"
   ]
  }
 ],
 "metadata": {
  "kernelspec": {
   "display_name": "SageMath 10.4",
   "language": "sage",
   "name": "SageMath-10.4"
  },
  "language_info": {
   "codemirror_mode": {
    "name": "ipython",
    "version": 3
   },
   "file_extension": ".py",
   "mimetype": "text/x-python",
   "name": "python",
   "nbconvert_exporter": "python",
   "pygments_lexer": "ipython3",
   "version": "3.12.4"
  }
 },
 "nbformat": 4,
 "nbformat_minor": 2
}
