{
 "cells": [
  {
   "cell_type": "code",
   "execution_count": null,
   "metadata": {},
   "outputs": [],
   "source": [
    "import sys\n",
    "from ten_tet_census.database import get_tables\n",
    "\n",
    "try:\n",
    "    import snappy\n",
    "    table_dict = snappy.database.add_tables_from_package('ten_tet_census', False)\n",
    "    for name, table in table_dict.items():\n",
    "        setattr(snappy, name, table)\n",
    "        if name not in snappy.database_objects:\n",
    "            snappy.database_objects.append(name)\n",
    "except ImportError:\n",
    "    print('er')\n"
   ]
  },
  {
   "cell_type": "code",
   "execution_count": 15,
   "metadata": {},
   "outputs": [
    {
     "data": {
      "text/plain": [
       "[o10_000001(0,0)]"
      ]
     },
     "execution_count": 15,
     "metadata": {},
     "output_type": "execute_result"
    }
   ],
   "source": [
    "m = snappy.Manifold('kLAMzMLkbcbdefghjjjhxjqhxqhrwn_aBba')\n",
    "m.identify()"
   ]
  },
  {
   "cell_type": "code",
   "execution_count": 14,
   "metadata": {},
   "outputs": [
    {
     "data": {
      "text/plain": [
       "[o10_150729(0,0)]"
      ]
     },
     "execution_count": 14,
     "metadata": {},
     "output_type": "execute_result"
    }
   ],
   "source": [
    "m = snappy.Manifold('kLLLLQPkbdefhgijiijdrugbsjhfnk_abBb')\n",
    "m.identify()"
   ]
  },
  {
   "cell_type": "code",
   "execution_count": 6,
   "metadata": {},
   "outputs": [
    {
     "ename": "OSError",
     "evalue": "The manifold file o10_150729 was not found.\n\n    A Triangulation or Manifold is specified by a string or a byte sequence, according to the\n    conventions detailed in its docstring.\n    ",
     "output_type": "error",
     "traceback": [
      "\u001b[0;31m---------------------------------------------------------------------------\u001b[0m",
      "\u001b[0;31mOSError\u001b[0m                                   Traceback (most recent call last)",
      "Cell \u001b[0;32mIn[6], line 1\u001b[0m\n\u001b[0;32m----> 1\u001b[0m m \u001b[38;5;241m=\u001b[39m \u001b[43msnappy\u001b[49m\u001b[38;5;241;43m.\u001b[39;49m\u001b[43mManifold\u001b[49m\u001b[43m(\u001b[49m\u001b[38;5;124;43m'\u001b[39;49m\u001b[38;5;124;43mo10_150729\u001b[39;49m\u001b[38;5;124;43m'\u001b[39;49m\u001b[43m)\u001b[49m\n",
      "File \u001b[0;32mcython/core/triangulation.pyx:102\u001b[0m, in \u001b[0;36mSnapPy.Triangulation.__cinit__\u001b[0;34m()\u001b[0m\n",
      "File \u001b[0;32mcython/core/triangulation.pyx:223\u001b[0m, in \u001b[0;36mSnapPy.Triangulation.get_triangulation\u001b[0;34m()\u001b[0m\n",
      "File \u001b[0;32mcython/core/triangulation.pyx:285\u001b[0m, in \u001b[0;36mSnapPy.Triangulation.get_from_file\u001b[0;34m()\u001b[0m\n",
      "\u001b[0;31mOSError\u001b[0m: The manifold file o10_150729 was not found.\n\n    A Triangulation or Manifold is specified by a string or a byte sequence, according to the\n    conventions detailed in its docstring.\n    "
     ]
    }
   ],
   "source": [
    "m = snappy.Manifold('o10_150729')"
   ]
  },
  {
   "cell_type": "code",
   "execution_count": 13,
   "metadata": {},
   "outputs": [
    {
     "ename": "TypeError",
     "evalue": "ManifoldTable.__call__() takes 1 positional argument but 2 were given",
     "output_type": "error",
     "traceback": [
      "\u001b[0;31m---------------------------------------------------------------------------\u001b[0m",
      "\u001b[0;31mTypeError\u001b[0m                                 Traceback (most recent call last)",
      "Cell \u001b[0;32mIn[13], line 1\u001b[0m\n\u001b[0;32m----> 1\u001b[0m m \u001b[38;5;241m=\u001b[39m \u001b[43msnappy\u001b[49m\u001b[38;5;241;43m.\u001b[39;49m\u001b[43mTenTetCuspedCensus\u001b[49m\u001b[43m(\u001b[49m\u001b[38;5;124;43m'\u001b[39;49m\u001b[38;5;124;43mo10_150729\u001b[39;49m\u001b[38;5;124;43m'\u001b[39;49m\u001b[43m)\u001b[49m\n",
      "\u001b[0;31mTypeError\u001b[0m: ManifoldTable.__call__() takes 1 positional argument but 2 were given"
     ]
    }
   ],
   "source": [
    "m = snappy.TenTetCuspedCensus('o10_150729')"
   ]
  },
  {
   "cell_type": "code",
   "execution_count": null,
   "metadata": {},
   "outputs": [],
   "source": [
    "m = snappy.Manifold('o9_44218')"
   ]
  },
  {
   "cell_type": "code",
   "execution_count": 13,
   "metadata": {},
   "outputs": [
    {
     "data": {
      "text/plain": [
       "[o10_000478(0,0)]"
      ]
     },
     "execution_count": 13,
     "metadata": {},
     "output_type": "execute_result"
    }
   ],
   "source": [
    "m = snappy.Manifold('kLAMzMzkaccdefghijjnnjaxhqxhqn')\n",
    "m.identify()"
   ]
  },
  {
   "cell_type": "code",
   "execution_count": 11,
   "metadata": {},
   "outputs": [
    {
     "data": {
      "text/plain": [
       "[o10_150728(0,0)]"
      ]
     },
     "execution_count": 11,
     "metadata": {},
     "output_type": "execute_result"
    }
   ],
   "source": [
    "m = snappy.Manifold('kLLzPPAkcdeehghihjjtkqusbbxwqn')\n",
    "m.identify()"
   ]
  },
  {
   "cell_type": "code",
   "execution_count": null,
   "metadata": {},
   "outputs": [
    {
     "name": "stdout",
     "output_type": "stream",
     "text": [
      "Error happened with: kLAMLLPkcbbdegijjjihqnxqwqscrj\n",
      "Error happened with: kLAMLLPkcbbdegijjjiqhkxhwqscrk\n",
      "Error happened with: kLAMLLPkcbbdegijjjiqhkxhwqscrj\n",
      "Error happened with: kLAMvPPkbcbdegijjjixhjqxwaronr\n",
      "Error happened with: kLAMLLPkbcbdegijjjixhjqqwqscrk\n",
      "Error happened with: kLAMLLPkcbbdegijjjihqjxqwqscrk\n",
      "Error happened with: kLAMLLPkcbbdegijjjihqjxqwqscrj\n",
      "Error happened with: kLAMvPPkbcbdegijjjihxjqqsagjkn\n",
      "Error happened with: kLAMvPPkbcbdegijjjihxwqhwaronk\n",
      "Error happened with: kLAMLvQkbcbdegijjjihxjqqjxgnsn\n",
      "Error happened with: kLAMLLPkcbbdegijjjiqhrxhwqscrk\n",
      "Error happened with: kLAMLLPkcbbdegijjjiqhrxhwqscrj\n",
      "Error happened with: kLAMvPPkbcbdegijjjixhjqqrawcjs\n",
      "Error happened with: kLAMvPPkbcbdegijjjixhnqxwaronr\n",
      "Error happened with: kLAMLLPkbcbdegijjjixhnqqwqscrj\n",
      "Error happened with: kLAMLvQkbcbdegijjjihxwqqjxgnsn\n",
      "Error happened with: kLAMLvQkbcbdegijjjixhjhxjxgnsr\n",
      "Error happened with: kLAMLvQkbcbdegijjjixhjhxjxgnsn\n",
      "Error happened with: kLAMvPPkbcbdegijjjihxjxhrawcjw\n",
      "Error happened with: kLAMLLPkbcbdegijjjihxjxhwqscrj\n",
      "Error happened with: kLAMvPPkbcbdegijjjixhjhxsagjkn\n",
      "Error happened with: kLAMLvQkbcbdegijjjihxjxxjxgnsn\n",
      "Error happened with: kLAMLvQkbcbdegijjjixhnhxjxgnsr\n",
      "Error happened with: kLAMLvQkbcbdegijjjixhnhxjxgnsn\n",
      "Error happened with: kLAMvPPkbcbdegijjjihxwxhrawcjs\n",
      "Error happened with: kLAMLLPkbcbdegijjjixhjhhwqscrj\n",
      "Error happened with: kLAMLLPkbcbdegijjjihxwxhwqscrj\n",
      "Error happened with: kLAMvPPkbcbdegijjjihxjxxsagjkn\n",
      "Error happened with: kLAMLLPkbcbdegijjjixhnhhwqscrk\n",
      "Error happened with: kLAMLLPkcbbdegijjjihhkxqwqscrj\n",
      "Error happened with: kLAMvPPkbcbdegijjjixxjqhwaronr\n",
      "Error happened with: kLAMLLPkcbbdegijjjiqqnxhwqscrj\n",
      "Error happened with: kLAMvPPkbcbdegijjjihhjqxwaronr\n",
      "Error happened with: kLAMvPPkbcbdegijjjixxnqhwaronr\n",
      "Error happened with: kLAMLLPkcbbdegijjjiqqjxhwqscrk\n",
      "Error happened with: kLAMvPPkbcbdegijjjihhwqxwaronr\n",
      "Error happened with: kLAMLLPkbcbdegijjjihhjqqwqscrj\n",
      "Error happened with: kLAMvPPkbcbdegijjjixxjqqsagjkn\n",
      "Error happened with: kLAMLvQkbcbdegijjjixxjqqjxgnsn\n",
      "Error happened with: kLAMvPPkbcbdegijjjihhjqqrawcjs\n",
      "Error happened with: kLAMLLPkbcbdegijjjihhwqqwqscrk\n",
      "Error happened with: kLAMLLPkbcbdegijjjihhwqqwqscrj\n",
      "Error happened with: kLAMvPPkbcbdegijjjixxnqqsagjkn\n",
      "Error happened with: kLAMLvQkbcbdegijjjixxnqqjxgnsn\n",
      "Error happened with: kLAMLvQkbcbdegijjjihhwhxjxgnsn\n",
      "Error happened with: kLAMLLPkbcbdegijjjixxnxhwqscrk\n",
      "Error happened with: kLAMLLPkbcbdegijjjixxnxhwqscrj\n",
      "Error happened with: kLAMvPMkbcbdeiiijjjhxwqhxhqron\n",
      "Error happened with: kLAMvPMkbcbdeiiijjjxhnqxxhqron\n",
      "Error happened with: kLAMvPPkbcbdehhhjjjhxwxhhxqscr\n",
      "Error happened with: kLAMvMPkcbbdehhhjjjhqjhhhqxnfw\n",
      "Error happened with: kLAMvPMkbcbdeiiijjjhhjqxxhqron\n",
      "Error happened with: kLAMvPMkbcbdeiiijjjhhwqxxhqron\n",
      "Error happened with: kLAMvLQkbcbdejhjiijhhjqqaeevkw\n"
     ]
    }
   ],
   "source": [
    "with open('./tricensus_strict_10_hyperbolic_ori.dat', 'r') as f:\n",
    "    for sig in f:\n",
    "        sig = sig.strip()\n",
    "\n",
    "        m = snappy.Manifold(sig)\n",
    "        try:\n",
    "            if not m.identify():\n",
    "                print('Identify gives no result for: '+sig)\n",
    "        except:\n",
    "            print('Error happened with: '+sig)"
   ]
  },
  {
   "cell_type": "code",
   "execution_count": 7,
   "metadata": {},
   "outputs": [
    {
     "name": "stdout",
     "output_type": "stream",
     "text": [
      "Success: 392\n",
      "Error: 608\n"
     ]
    }
   ],
   "source": [
    "success_count = 0 \n",
    "er_count = 0\n",
    "\n",
    "sig = 'kLAMvPPkbcbdegijjjihxjxhrawcjw'\n",
    "\n",
    "for i in range(1000):\n",
    "    try:\n",
    "        m = snappy.Manifold(sig)\n",
    "        m.identify()\n",
    "        success_count+=1\n",
    "    except:\n",
    "        er_count+=1\n",
    "\n",
    "print('Success: ' + str(success_count))\n",
    "print('Error: '+str(er_count))"
   ]
  },
  {
   "cell_type": "code",
   "execution_count": 8,
   "metadata": {},
   "outputs": [
    {
     "name": "stdout",
     "output_type": "stream",
     "text": [
      "Success: 696\n",
      "Error: 304\n"
     ]
    }
   ],
   "source": [
    "success_count = 0 \n",
    "er_count = 0\n",
    "\n",
    "sig = 'kLAMLLPkbcbdegijjjihhwqqwqscrk'\n",
    "\n",
    "for i in range(1000):\n",
    "    try:\n",
    "        m = snappy.Manifold(sig)\n",
    "        m.identify()\n",
    "        success_count+=1\n",
    "    except:\n",
    "        er_count+=1\n",
    "\n",
    "print('Success: ' + str(success_count))\n",
    "print('Error: '+str(er_count))"
   ]
  },
  {
   "cell_type": "code",
   "execution_count": 9,
   "metadata": {},
   "outputs": [
    {
     "ename": "SnapPeaFatalError",
     "evalue": "SnapPea crashed in function b'proto_canonize'(), defined in b'canonize_part_1'.c.",
     "output_type": "error",
     "traceback": [
      "\u001b[0;31m---------------------------------------------------------------------------\u001b[0m",
      "\u001b[0;31mSnapPeaFatalError\u001b[0m                         Traceback (most recent call last)",
      "Cell \u001b[0;32mIn[9], line 4\u001b[0m\n\u001b[1;32m      1\u001b[0m sig \u001b[38;5;241m=\u001b[39m \u001b[38;5;124m'\u001b[39m\u001b[38;5;124mkLAMvPPkbcbdegijjjihxjxhrawcjw\u001b[39m\u001b[38;5;124m'\u001b[39m\n\u001b[1;32m      3\u001b[0m m \u001b[38;5;241m=\u001b[39m snappy\u001b[38;5;241m.\u001b[39mManifold(sig)\n\u001b[0;32m----> 4\u001b[0m \u001b[43mm\u001b[49m\u001b[38;5;241;43m.\u001b[39;49m\u001b[43midentify\u001b[49m\u001b[43m(\u001b[49m\u001b[43m)\u001b[49m\n",
      "File \u001b[0;32m~/Library/SageMath-10-4/lib/python3.12/site-packages/snappy/__init__.py:78\u001b[0m, in \u001b[0;36mManifold.identify\u001b[0;34m(self, extends_to_link)\u001b[0m\n\u001b[1;32m     53\u001b[0m \u001b[38;5;28;01mdef\u001b[39;00m \u001b[38;5;21midentify\u001b[39m(\u001b[38;5;28mself\u001b[39m, extends_to_link\u001b[38;5;241m=\u001b[39m\u001b[38;5;28;01mFalse\u001b[39;00m):\n\u001b[1;32m     54\u001b[0m \u001b[38;5;250m    \u001b[39m\u001b[38;5;124;03m\"\"\"\u001b[39;00m\n\u001b[1;32m     55\u001b[0m \u001b[38;5;124;03m    Looks for the manifold in all of the SnapPy databases.\u001b[39;00m\n\u001b[1;32m     56\u001b[0m \u001b[38;5;124;03m    For hyperbolic manifolds this is done by searching for isometries:\u001b[39;00m\n\u001b[0;32m   (...)\u001b[0m\n\u001b[1;32m     76\u001b[0m \u001b[38;5;124;03m    []\u001b[39;00m\n\u001b[1;32m     77\u001b[0m \u001b[38;5;124;03m    \"\"\"\u001b[39;00m\n\u001b[0;32m---> 78\u001b[0m     \u001b[38;5;28;01mreturn\u001b[39;00m \u001b[38;5;28;43mself\u001b[39;49m\u001b[38;5;241;43m.\u001b[39;49m\u001b[43m_identify\u001b[49m\u001b[43m(\u001b[49m\u001b[43mextends_to_link\u001b[49m\u001b[43m)\u001b[49m\n",
      "File \u001b[0;32mcython/core/manifold.pyx:1823\u001b[0m, in \u001b[0;36mSnapPy.Manifold._identify\u001b[0;34m()\u001b[0m\n",
      "File \u001b[0;32m~/Library/SageMath-10-4/lib/python3.12/site-packages/snappy/database.py:385\u001b[0m, in \u001b[0;36mManifoldTable.identify\u001b[0;34m(self, mfld, extends_to_link)\u001b[0m\n\u001b[1;32m    383\u001b[0m \u001b[38;5;28;01mtry\u001b[39;00m:\n\u001b[1;32m    384\u001b[0m     \u001b[38;5;28;01mif\u001b[39;00m \u001b[38;5;129;01mnot\u001b[39;00m extends_to_link:\n\u001b[0;32m--> 385\u001b[0m         \u001b[38;5;28;01mif\u001b[39;00m \u001b[43mmfld\u001b[49m\u001b[38;5;241;43m.\u001b[39;49m\u001b[43mis_isometric_to\u001b[49m\u001b[43m(\u001b[49m\u001b[43mN\u001b[49m\u001b[43m)\u001b[49m:\n\u001b[1;32m    386\u001b[0m             \u001b[38;5;28;01mreturn\u001b[39;00m N\n\u001b[1;32m    387\u001b[0m     \u001b[38;5;28;01melse\u001b[39;00m:\n",
      "File \u001b[0;32m~/Library/SageMath-10-4/lib/python3.12/site-packages/snappy/__init__.py:224\u001b[0m, in \u001b[0;36mis_isometric_to\u001b[0;34m(self, other, return_isometries)\u001b[0m\n\u001b[1;32m    216\u001b[0m \u001b[38;5;28;01mdef\u001b[39;00m \u001b[38;5;21mis_isometric_to\u001b[39m(\u001b[38;5;28mself\u001b[39m,\n\u001b[1;32m    217\u001b[0m                     other : Union[Manifold, ManifoldHP],\n\u001b[1;32m    218\u001b[0m                     return_isometries : \u001b[38;5;28mbool\u001b[39m \u001b[38;5;241m=\u001b[39m \u001b[38;5;28;01mFalse\u001b[39;00m\n\u001b[1;32m    219\u001b[0m                     ) \u001b[38;5;241m-\u001b[39m\u001b[38;5;241m>\u001b[39m Union[\u001b[38;5;28mbool\u001b[39m, List[Isometry]]:\n\u001b[1;32m    220\u001b[0m     resolved_self, resolved_other \u001b[38;5;241m=\u001b[39m (\n\u001b[1;32m    221\u001b[0m         _symmetrize_high_precision_manifold(\n\u001b[1;32m    222\u001b[0m             \u001b[38;5;28mself\u001b[39m, other))\n\u001b[0;32m--> 224\u001b[0m     \u001b[38;5;28;01mreturn\u001b[39;00m \u001b[43mresolved_self\u001b[49m\u001b[38;5;241;43m.\u001b[39;49m\u001b[43m_is_isometric_to\u001b[49m\u001b[43m(\u001b[49m\n\u001b[1;32m    225\u001b[0m \u001b[43m        \u001b[49m\u001b[43mresolved_other\u001b[49m\u001b[43m,\u001b[49m\n\u001b[1;32m    226\u001b[0m \u001b[43m        \u001b[49m\u001b[43mreturn_isometries\u001b[49m\u001b[38;5;241;43m=\u001b[39;49m\u001b[43mreturn_isometries\u001b[49m\u001b[43m)\u001b[49m\n",
      "File \u001b[0;32mcython/core/manifold.pyx:1600\u001b[0m, in \u001b[0;36mSnapPy.Manifold._is_isometric_to\u001b[0;34m()\u001b[0m\n",
      "File \u001b[0;32mcython/core/basic.pyx:178\u001b[0m, in \u001b[0;36mSnapPy.uFatalError\u001b[0;34m()\u001b[0m\n",
      "\u001b[0;31mSnapPeaFatalError\u001b[0m: SnapPea crashed in function b'proto_canonize'(), defined in b'canonize_part_1'.c."
     ]
    }
   ],
   "source": [
    "sig = 'kLAMvPPkbcbdegijjjihxjxhrawcjw'\n",
    "\n",
    "m = snappy.Manifold(sig)\n",
    "m.identify()"
   ]
  },
  {
   "cell_type": "code",
   "execution_count": null,
   "metadata": {},
   "outputs": [],
   "source": []
  }
 ],
 "metadata": {
  "kernelspec": {
   "display_name": "SageMath 10.4",
   "language": "sage",
   "name": "SageMath-10.4"
  },
  "language_info": {
   "codemirror_mode": {
    "name": "ipython",
    "version": 3
   },
   "file_extension": ".py",
   "mimetype": "text/x-python",
   "name": "python",
   "nbconvert_exporter": "python",
   "pygments_lexer": "ipython3",
   "version": "3.12.4"
  }
 },
 "nbformat": 4,
 "nbformat_minor": 2
}
